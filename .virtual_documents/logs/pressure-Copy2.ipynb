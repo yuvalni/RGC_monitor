import matplotlib.pyplot as plt
import pandas as pd
import matplotlib.dates as mdates
import datetime
import numpy as np


df = pd.read_csv('./monitoring/monitoring.log',delimiter=' - ',skiprows=4)
df.head()


Water_temp = df['9.0']
Water_temp_out = df['15.0']


time = df['2024-05-21 00:02:01,664']
time = pd.to_datetime(time,format="%Y-%m-%d %H:%M:%S,%f")


plt.plot(time,Water_temp)

ax = plt.gca()
ax.xaxis.set_major_formatter(mdates.DateFormatter('%H:%M'))

plt.show()


plt.plot(time,Water_temp)
plt.plot(time,Water_temp_out)
ax = plt.gca()
ax.xaxis.set_major_formatter(mdates.DateFormatter('%H:%M'))

plt.show()


sec_stg = df["47.793"]


plt.plot(Water_temp,sec_stg)
plt.show()


plt.plot(time,Water_temp-Water_temp_out)

ax = plt.gca()
ax.xaxis.set_major_formatter(mdates.DateFormatter('%H:%M'))

plt.show()



